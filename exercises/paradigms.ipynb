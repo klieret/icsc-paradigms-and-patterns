{
 "cells": [
  {
   "cell_type": "markdown",
   "metadata": {},
   "source": [
    "# Exercises: Programming paradigms"
   ]
  },
  {
   "cell_type": "markdown",
   "metadata": {},
   "source": [
    "# Functional programming"
   ]
  },
  {
   "cell_type": "markdown",
   "metadata": {
    "heading_collapsed": true
   },
   "source": [
    "## Recursion"
   ]
  },
  {
   "cell_type": "markdown",
   "metadata": {
    "hidden": true
   },
   "source": [
    "**Exercise 1**: The Fibonacci numbers are defined as $f_1=1$, $f_2=1$, $f_{n+2} = f_n+f_{n+1}$."
   ]
  },
  {
   "cell_type": "code",
   "execution_count": null,
   "metadata": {
    "ExecuteTime": {
     "end_time": "2020-09-16T14:42:21.269814Z",
     "start_time": "2020-09-16T14:42:21.266007Z"
    },
    "hidden": true
   },
   "outputs": [],
   "source": [
    "# Your solution here\n",
    "def fib(n):\n",
    "    pass"
   ]
  },
  {
   "cell_type": "code",
   "execution_count": null,
   "metadata": {
    "hidden": true
   },
   "outputs": [],
   "source": [
    "# Test your solution here\n",
    "\n",
    "assert fib(1) == 1\n",
    "assert fib(2) == 1\n",
    "assert fib(3) == 2\n",
    "assert fib(4) == 3\n",
    "assert fib(5) == 5"
   ]
  },
  {
   "cell_type": "markdown",
   "metadata": {
    "hidden": true
   },
   "source": [
    "<html>\n",
    "<details>\n",
    "<summary style=\"color:red; font-weight: bold;\"> Click me for the solution </summary>\n",
    " \n",
    "```python\n",
    "def fib(n):\n",
    "    if n in [1, 2]:\n",
    "        return 1\n",
    "    else:\n",
    "        return fib(n-1) + fib(n-2)\n",
    "```\n",
    "    \n",
    "</details>\n",
    "</html>"
   ]
  },
  {
   "cell_type": "markdown",
   "metadata": {},
   "source": [
    "## Higher order functions"
   ]
  },
  {
   "cell_type": "markdown",
   "metadata": {},
   "source": [
    "**Exercise 2a (easy)**: \n",
    "\n",
    "Given an arbitrary function ``fct`` that operators on \"single\" values (e.g. floats ``fct(1)=3``, etc.)\n",
    "\n",
    "We want to write a higher order function ``vectorize`` that returns a function ``fct_vectorized`` that can be both applied to single values (``fct_vectorized(1)=3``) and a list like so: ``fct_vectorized([1, 2, ...]) = [fct(1), fct(2), ...]``. "
   ]
  },
  {
   "cell_type": "code",
   "execution_count": null,
   "metadata": {},
   "outputs": [],
   "source": [
    "# Your solution here\n",
    "def vectorize(fct):\n",
    "    pass"
   ]
  },
  {
   "cell_type": "code",
   "execution_count": null,
   "metadata": {},
   "outputs": [],
   "source": [
    "# Test your solution here:\n",
    "\n",
    "def _square(x):\n",
    "    return x*x\n",
    "\n",
    "\n",
    "square = vectorize(_square)\n",
    "\n",
    "\n",
    "assert square(1) == 1\n",
    "assert square(3) == 9\n",
    "assert square([1, 2, 3, 4]) == [1, 4, 9, 16]\n",
    "assert square([]) == []\n"
   ]
  },
  {
   "cell_type": "markdown",
   "metadata": {
    "ExecuteTime": {
     "end_time": "2020-09-27T11:20:58.738923Z",
     "start_time": "2020-09-27T11:20:58.717412Z"
    }
   },
   "source": [
    "<html>\n",
    "<details>\n",
    "<summary style=\"color:orange; font-weight: bold;\"> Click me for a hint </summary>\n",
    " \n",
    "```python\n",
    "    \n",
    "def vectorize(fct):\n",
    "\n",
    "    def vectorized(lst):\n",
    "        if isinstance(lst, list):\n",
    "            # if we were given a list\n",
    "            # YOUR CODE HERE\n",
    "        else:\n",
    "            # if we were given a single value\n",
    "            # YOUR CODE HERE\n",
    "\n",
    "    return vectorized\n",
    "```\n",
    "    \n",
    "</details>\n",
    "</html>"
   ]
  },
  {
   "cell_type": "markdown",
   "metadata": {},
   "source": [
    "<html>\n",
    "<details>\n",
    "<summary style=\"color:red; font-weight: bold;\"> Click me for the solution </summary>\n",
    " \n",
    "```python\n",
    "    \n",
    "from typing import Iterable\n",
    "\n",
    "def vectorize(fct):\n",
    "\n",
    "    def vectorized(lst):\n",
    "        if isinstance(lst, Iterable):\n",
    "            return [fct(item) for item in lst]\n",
    "        else:\n",
    "            return fct(lst)\n",
    "\n",
    "    return vectorized\n",
    "```\n",
    "    \n",
    "</details>\n",
    "</html>"
   ]
  },
  {
   "cell_type": "markdown",
   "metadata": {},
   "source": [
    "**Exercise 2b (harder)**: We want to be able to apply an arbitrary function fct that is defined for \"single\" values to a list (of lists) like so: ``fct([[1, 2], 3, [[4]], ...]) = [[fct(1), fct(2)], fct(3), [[fct(4)]], ...])``. \n",
    "\n",
    "For this we want to create a high-level function ``tree_vectorize``"
   ]
  },
  {
   "cell_type": "code",
   "execution_count": null,
   "metadata": {},
   "outputs": [],
   "source": [
    "# Your solution here\n",
    "def tree_vectorize(fct):\n",
    "    pass"
   ]
  },
  {
   "cell_type": "code",
   "execution_count": null,
   "metadata": {},
   "outputs": [],
   "source": [
    "# Test your solution here:\n",
    "\n",
    "def _square(x):\n",
    "    return x*x\n",
    "\n",
    "square = tree_vectorize(_square)\n",
    "\n",
    "assert square(4) == 16\n",
    "assert square([4]) == [16]\n",
    "assert square([1, 3]) == [1, 9]\n",
    "assert square([1, 2, [3, [4]]]) == [1, 4, [9, [16]]]"
   ]
  },
  {
   "cell_type": "markdown",
   "metadata": {},
   "source": [
    "<html>\n",
    "<details>\n",
    "<summary style=\"color:orange; font-weight: bold;\"> Click me for a hint </summary>\n",
    "<ul>\n",
    "    <li>The inner function needs to recursively call itself if the input is a list</li>\n",
    "    <li>You can test whether the input is a list using <code>isinstance(maybe_list, list)</code></li>\n",
    "    </ul>\n",
    "</details>\n",
    "</html>"
   ]
  },
  {
   "cell_type": "markdown",
   "metadata": {},
   "source": [
    "<html>\n",
    "<details>\n",
    "<summary style=\"color:red; font-weight: bold;\"> Click me for the solution </summary>\n",
    " \n",
    "```python\n",
    "def tree_vectorize(fct):\n",
    "    \n",
    "    def _vectorized(nested_list):\n",
    "        if not isinstance(nested_list, list):\n",
    "            return fct(nested_list)\n",
    "        else:\n",
    "            return [_vectorized(lst) for lst in nested_list]\n",
    "    \n",
    "    return _vectorized\n",
    "```\n",
    "    \n",
    "</details>\n",
    "</html>"
   ]
  },
  {
   "cell_type": "markdown",
   "metadata": {},
   "source": [
    "**Exercise 3**: We want to log our function calls. Write a function ``log_call`` that takes a function and prints the function call (see the ``Test your solution`` example)."
   ]
  },
  {
   "cell_type": "code",
   "execution_count": null,
   "metadata": {
    "ExecuteTime": {
     "end_time": "2020-09-27T11:22:18.690296Z",
     "start_time": "2020-09-27T11:22:18.671225Z"
    }
   },
   "outputs": [],
   "source": [
    "# Your solution here\n",
    "\n",
    "def log_call(fct):\n",
    "    \n",
    "    pass"
   ]
  },
  {
   "cell_type": "code",
   "execution_count": null,
   "metadata": {},
   "outputs": [],
   "source": [
    "# Test your solution here\n",
    "\n",
    "logged_fib = log_call(fib)\n",
    "\n",
    "# The following should always print the call itself\n",
    "logged_fib(1)\n",
    "logged_fib(7)"
   ]
  },
  {
   "cell_type": "markdown",
   "metadata": {},
   "source": [
    "<html>\n",
    "<details>\n",
    "<summary style=\"color:red; font-weight: bold;\"> Click me for the solution </summary>\n",
    "A very simple solution could look like this: \n",
    "    \n",
    "```python\n",
    "def log_call(fct):\n",
    "    \n",
    "    def _logged_fct(argument):\n",
    "        return_value = fct(argument)\n",
    "        # fct.__name__ is the name of the function\n",
    "        print(f\"{fct.__name__}({argument}) = {return_value}\")\n",
    "        return return_value\n",
    "       \n",
    "    return _logged_fct\n",
    "```\n",
    "\n",
    "**Generalizing** to arbitrarily many arguments and keyword arguments:\n",
    "    \n",
    "```python\n",
    "def log_call(fct):\n",
    "    \n",
    "    def _logged_fct(*args, **kwargs):\n",
    "        return_value = fct(*args, **kwargs)\n",
    "        # fct.__name__ is the name of the function\n",
    "        print(f\"{fct.__name__}({args}, {kwargs}) = {return_value}\")\n",
    "        return return_value\n",
    "       \n",
    "    return _logged_fct\n",
    "```    \n",
    "\n",
    "**Advanced**: The above solution works perfectly, but for some minor details, it is recommended to do this:\n",
    "```python\n",
    "from functools import wraps\n",
    "    \n",
    "def log_call(fct):\n",
    "    \n",
    "    @wraps(fct)\n",
    "    def _logged_fct(*args, **kwargs):\n",
    "        return_value = fct(*args, **kwargs)\n",
    "        # fct.__name__ is the name of the function\n",
    "        print(f\"{fct.__name__}({args}, {kwargs}) = {return_value}\")\n",
    "        return return_value\n",
    "       \n",
    "    return _logged_fct\n",
    "```    \n",
    "</details>\n",
    "</html>"
   ]
  },
  {
   "cell_type": "markdown",
   "metadata": {},
   "source": [
    "Using a bit of python dark magic, we can actually print what's happening in the recursion:"
   ]
  },
  {
   "cell_type": "code",
   "execution_count": null,
   "metadata": {},
   "outputs": [],
   "source": [
    "fib = log_call(fib)"
   ]
  },
  {
   "cell_type": "code",
   "execution_count": null,
   "metadata": {
    "scrolled": true
   },
   "outputs": [],
   "source": [
    "fib(7)"
   ]
  },
  {
   "cell_type": "markdown",
   "metadata": {},
   "source": [
    "To display a **fancier version** of this call graph of your recursion, head to https://anandology.com/python-practice-book/functional-programming.html and have a look at their ``trace`` function."
   ]
  },
  {
   "cell_type": "markdown",
   "metadata": {},
   "source": [
    "## Memoization"
   ]
  },
  {
   "cell_type": "markdown",
   "metadata": {},
   "source": [
    "As you can see in the above call graph, the same function values are calculated multiple times. This can be avoided by using the Memoization technique aka caching the output"
   ]
  },
  {
   "cell_type": "code",
   "execution_count": null,
   "metadata": {},
   "outputs": [],
   "source": [
    "from functools import lru_cache\n",
    "\n",
    "fib = lru_cache(100)(fib)"
   ]
  },
  {
   "cell_type": "code",
   "execution_count": null,
   "metadata": {},
   "outputs": [],
   "source": [
    "fib(20)"
   ]
  },
  {
   "cell_type": "markdown",
   "metadata": {},
   "source": [
    "# Object oriented programming"
   ]
  },
  {
   "cell_type": "markdown",
   "metadata": {},
   "source": [
    "There will be more exercises about OOP in the exercises for the next lecture \"Design Patterns\".\n",
    "This time we will only cover the absolute basics."
   ]
  },
  {
   "cell_type": "markdown",
   "metadata": {},
   "source": [
    "## Abstract methods"
   ]
  },
  {
   "cell_type": "code",
   "execution_count": null,
   "metadata": {
    "ExecuteTime": {
     "end_time": "2020-09-27T12:27:44.828931Z",
     "start_time": "2020-09-27T12:27:44.825794Z"
    }
   },
   "outputs": [],
   "source": [
    "from abc import ABC, abstractmethod"
   ]
  },
  {
   "cell_type": "code",
   "execution_count": null,
   "metadata": {
    "ExecuteTime": {
     "end_time": "2020-09-27T12:28:04.055057Z",
     "start_time": "2020-09-27T12:28:04.049088Z"
    }
   },
   "outputs": [],
   "source": [
    "class Shape(ABC):\n",
    "    @abstractmethod\n",
    "    def calculate_area(self):\n",
    "        pass"
   ]
  },
  {
   "cell_type": "markdown",
   "metadata": {},
   "source": [
    "**Exercise**: Write a subclass ``Rectangle`` of ``Shape``."
   ]
  },
  {
   "cell_type": "markdown",
   "metadata": {
    "ExecuteTime": {
     "end_time": "2020-09-27T12:29:20.307535Z",
     "start_time": "2020-09-27T12:29:20.297821Z"
    }
   },
   "source": [
    "<html>\n",
    "<details>\n",
    "<summary style=\"color:red; font-weight: bold;\"> Click me for the solution </summary>\n",
    " \n",
    "```python\n",
    "class Rectangle(Shape):\n",
    "    def __init__(self, length, width):\n",
    "        self.length = length\n",
    "        self.width= width\n",
    "    \n",
    "    def calculate_area(self):\n",
    "        return self.lenght*width.b\n",
    "r1.length= 10\n",
    "r1.width= 20\n",
    "</details>\n",
    "</html>"
   ]
  }
 ],
 "metadata": {
  "kernelspec": {
   "display_name": "Python 3",
   "language": "python",
   "name": "python3"
  },
  "language_info": {
   "codemirror_mode": {
    "name": "ipython",
    "version": 3
   },
   "file_extension": ".py",
   "mimetype": "text/x-python",
   "name": "python",
   "nbconvert_exporter": "python",
   "pygments_lexer": "ipython3",
   "version": "3.7.5"
  },
  "toc": {
   "base_numbering": 1,
   "nav_menu": {},
   "number_sections": true,
   "sideBar": true,
   "skip_h1_title": false,
   "title_cell": "Table of Contents",
   "title_sidebar": "Contents",
   "toc_cell": false,
   "toc_position": {},
   "toc_section_display": true,
   "toc_window_display": false
  },
  "varInspector": {
   "cols": {
    "lenName": 16,
    "lenType": 16,
    "lenVar": 40
   },
   "kernels_config": {
    "python": {
     "delete_cmd_postfix": "",
     "delete_cmd_prefix": "del ",
     "library": "var_list.py",
     "varRefreshCmd": "print(var_dic_list())"
    },
    "r": {
     "delete_cmd_postfix": ") ",
     "delete_cmd_prefix": "rm(",
     "library": "var_list.r",
     "varRefreshCmd": "cat(var_dic_list()) "
    }
   },
   "types_to_exclude": [
    "module",
    "function",
    "builtin_function_or_method",
    "instance",
    "_Feature"
   ],
   "window_display": false
  }
 },
 "nbformat": 4,
 "nbformat_minor": 4
}
